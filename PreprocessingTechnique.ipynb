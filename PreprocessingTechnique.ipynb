{
  "nbformat": 4,
  "nbformat_minor": 0,
  "metadata": {
    "colab": {
      "provenance": [],
      "include_colab_link": true
    },
    "kernelspec": {
      "name": "python3",
      "display_name": "Python 3"
    },
    "language_info": {
      "name": "python"
    }
  },
  "cells": [
    {
      "cell_type": "markdown",
      "metadata": {
        "id": "view-in-github",
        "colab_type": "text"
      },
      "source": [
        "<a href=\"https://colab.research.google.com/github/kalyankargouri/machine-learning/blob/main/PreprocessingTechnique.ipynb\" target=\"_parent\"><img src=\"https://colab.research.google.com/assets/colab-badge.svg\" alt=\"Open In Colab\"/></a>"
      ]
    },
    {
      "cell_type": "code",
      "execution_count": 1,
      "metadata": {
        "id": "OiZLfk2p4tQm"
      },
      "outputs": [],
      "source": [
        "import pandas as pd\n",
        "from sklearn.model_selection import train_test_split\n",
        "from sklearn.preprocessing import StandardScaler,LabelEncoder\n",
        "from sklearn.impute import SimpleImputer"
      ]
    },
    {
      "cell_type": "code",
      "source": [
        "data={\n",
        "    'Age':[25,10,45,None,23],\n",
        "    'Salary':[30000,56000,None,45000,78000],\n",
        "    'Department':['HR','IT','IT','HR','HR'],\n",
        "    'Purchased':['No','Yes','No','Yes','Yes'],\n",
        "    'Gender':['Male','Female','Male','Female','Male']\n",
        "}\n",
        "\n",
        "df=pd.DataFrame(data)\n",
        "print(\"Before preprocessing dataset:\\n\",df)"
      ],
      "metadata": {
        "colab": {
          "base_uri": "https://localhost:8080/"
        },
        "id": "8aeFApgG5prP",
        "outputId": "03e609c8-ecfc-4527-e523-711af2c862b0"
      },
      "execution_count": 2,
      "outputs": [
        {
          "output_type": "stream",
          "name": "stdout",
          "text": [
            "Before preprocessing dataset:\n",
            "     Age   Salary Department Purchased  Gender\n",
            "0  25.0  30000.0         HR        No    Male\n",
            "1  10.0  56000.0         IT       Yes  Female\n",
            "2  45.0      NaN         IT        No    Male\n",
            "3   NaN  45000.0         HR       Yes  Female\n",
            "4  23.0  78000.0         HR       Yes    Male\n"
          ]
        }
      ]
    },
    {
      "cell_type": "code",
      "source": [
        "imputer=SimpleImputer(strategy='mean')\n",
        "df[['Age','Salary']]=imputer.fit_transform(df[['Age','Salary']])\n",
        "print(\"After handling missing values:\\n\",df)"
      ],
      "metadata": {
        "colab": {
          "base_uri": "https://localhost:8080/"
        },
        "id": "xhY_e3RE6dcu",
        "outputId": "2e8ccf49-9a25-47bf-e81f-9bc3579e9a73"
      },
      "execution_count": 3,
      "outputs": [
        {
          "output_type": "stream",
          "name": "stdout",
          "text": [
            "After handling missing values:\n",
            "      Age   Salary Department Purchased  Gender\n",
            "0  25.00  30000.0         HR        No    Male\n",
            "1  10.00  56000.0         IT       Yes  Female\n",
            "2  45.00  52250.0         IT        No    Male\n",
            "3  25.75  45000.0         HR       Yes  Female\n",
            "4  23.00  78000.0         HR       Yes    Male\n"
          ]
        }
      ]
    },
    {
      "cell_type": "code",
      "source": [
        "label_encoder=LabelEncoder()\n",
        "df['Department']=label_encoder.fit_transform(df['Department'])\n",
        "df['Purchased']=label_encoder.fit_transform(df['Purchased'])\n",
        "df['Gender']=label_encoder.fit_transform(df['Gender'])"
      ],
      "metadata": {
        "id": "Ra0qQeYk7DVN"
      },
      "execution_count": 4,
      "outputs": []
    },
    {
      "cell_type": "code",
      "source": [
        "scaler=StandardScaler()\n",
        "df[['Age','Salary']]=scaler.fit_transform(df[['Age','Salary']])"
      ],
      "metadata": {
        "id": "sq4cE2mN8dV2"
      },
      "execution_count": 5,
      "outputs": []
    },
    {
      "cell_type": "code",
      "source": [
        "x=df.drop('Purchased',axis=1)\n",
        "y=df['Purchased']"
      ],
      "metadata": {
        "id": "WkNmPuR780qp"
      },
      "execution_count": null,
      "outputs": []
    },
    {
      "cell_type": "code",
      "source": [
        "x=df.drop('Purchased',axis=1)\n",
        "y=df['Purchased']\n",
        "X_train, X_test, y_train, y_test = train_test_split(x, y, test_size=0.2, random_state=42)"
      ],
      "metadata": {
        "id": "6hR3tpUW87SL"
      },
      "execution_count": 8,
      "outputs": []
    },
    {
      "cell_type": "code",
      "source": [
        "print(\"\\nPreprocessed Features (X_train):\\n\", X_train)\n",
        "print(\"\\nTarget (y_train):\\n\", y_train)\n"
      ],
      "metadata": {
        "colab": {
          "base_uri": "https://localhost:8080/"
        },
        "id": "FL1vICQ09CLB",
        "outputId": "57d79646-dc2c-4530-c423-d0f15b4fee95"
      },
      "execution_count": 9,
      "outputs": [
        {
          "output_type": "stream",
          "name": "stdout",
          "text": [
            "\n",
            "Preprocessed Features (X_train):\n",
            "         Age    Salary  Department  Gender\n",
            "4 -0.245624  1.645275           0       1\n",
            "2  1.719367  0.000000           1       1\n",
            "0 -0.066988 -1.421645           0       1\n",
            "3  0.000000 -0.463233           0       0\n",
            "\n",
            "Target (y_train):\n",
            " 4    1\n",
            "2    0\n",
            "0    0\n",
            "3    1\n",
            "Name: Purchased, dtype: int64\n"
          ]
        }
      ]
    }
  ]
}